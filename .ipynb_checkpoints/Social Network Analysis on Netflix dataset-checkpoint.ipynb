{
 "cells": [
  {
   "cell_type": "markdown",
   "metadata": {},
   "source": [
    "# Social Network Analysis on Netflix dataset"
   ]
  },
  {
   "cell_type": "code",
   "execution_count": 1,
   "metadata": {},
   "outputs": [],
   "source": [
    "import pandas as pd\n",
    "import numpy as np\n",
    "%matplotlib inline\n",
    "import matplotlib.pyplot as plt\n",
    "plt.style.use('seaborn-darkgrid')"
   ]
  },
  {
   "cell_type": "code",
   "execution_count": 2,
   "metadata": {},
   "outputs": [],
   "source": [
    "df = pd.read_csv('netflix_titles.csv')"
   ]
  },
  {
   "cell_type": "code",
   "execution_count": 3,
   "metadata": {},
   "outputs": [
    {
     "data": {
      "text/html": [
       "<div>\n",
       "<style scoped>\n",
       "    .dataframe tbody tr th:only-of-type {\n",
       "        vertical-align: middle;\n",
       "    }\n",
       "\n",
       "    .dataframe tbody tr th {\n",
       "        vertical-align: top;\n",
       "    }\n",
       "\n",
       "    .dataframe thead th {\n",
       "        text-align: right;\n",
       "    }\n",
       "</style>\n",
       "<table border=\"1\" class=\"dataframe\">\n",
       "  <thead>\n",
       "    <tr style=\"text-align: right;\">\n",
       "      <th></th>\n",
       "      <th>show_id</th>\n",
       "      <th>type</th>\n",
       "      <th>title</th>\n",
       "      <th>director</th>\n",
       "      <th>cast</th>\n",
       "      <th>country</th>\n",
       "      <th>date_added</th>\n",
       "      <th>release_year</th>\n",
       "      <th>rating</th>\n",
       "      <th>duration</th>\n",
       "      <th>listed_in</th>\n",
       "      <th>description</th>\n",
       "    </tr>\n",
       "  </thead>\n",
       "  <tbody>\n",
       "    <tr>\n",
       "      <th>0</th>\n",
       "      <td>81145628</td>\n",
       "      <td>Movie</td>\n",
       "      <td>Norm of the North: King Sized Adventure</td>\n",
       "      <td>Richard Finn, Tim Maltby</td>\n",
       "      <td>Alan Marriott, Andrew Toth, Brian Dobson, Cole...</td>\n",
       "      <td>United States, India, South Korea, China</td>\n",
       "      <td>September 9, 2019</td>\n",
       "      <td>2019</td>\n",
       "      <td>TV-PG</td>\n",
       "      <td>90 min</td>\n",
       "      <td>Children &amp; Family Movies, Comedies</td>\n",
       "      <td>Before planning an awesome wedding for his gra...</td>\n",
       "    </tr>\n",
       "    <tr>\n",
       "      <th>1</th>\n",
       "      <td>80117401</td>\n",
       "      <td>Movie</td>\n",
       "      <td>Jandino: Whatever it Takes</td>\n",
       "      <td>NaN</td>\n",
       "      <td>Jandino Asporaat</td>\n",
       "      <td>United Kingdom</td>\n",
       "      <td>September 9, 2016</td>\n",
       "      <td>2016</td>\n",
       "      <td>TV-MA</td>\n",
       "      <td>94 min</td>\n",
       "      <td>Stand-Up Comedy</td>\n",
       "      <td>Jandino Asporaat riffs on the challenges of ra...</td>\n",
       "    </tr>\n",
       "    <tr>\n",
       "      <th>2</th>\n",
       "      <td>70234439</td>\n",
       "      <td>TV Show</td>\n",
       "      <td>Transformers Prime</td>\n",
       "      <td>NaN</td>\n",
       "      <td>Peter Cullen, Sumalee Montano, Frank Welker, J...</td>\n",
       "      <td>United States</td>\n",
       "      <td>September 8, 2018</td>\n",
       "      <td>2013</td>\n",
       "      <td>TV-Y7-FV</td>\n",
       "      <td>1 Season</td>\n",
       "      <td>Kids' TV</td>\n",
       "      <td>With the help of three human allies, the Autob...</td>\n",
       "    </tr>\n",
       "    <tr>\n",
       "      <th>3</th>\n",
       "      <td>80058654</td>\n",
       "      <td>TV Show</td>\n",
       "      <td>Transformers: Robots in Disguise</td>\n",
       "      <td>NaN</td>\n",
       "      <td>Will Friedle, Darren Criss, Constance Zimmer, ...</td>\n",
       "      <td>United States</td>\n",
       "      <td>September 8, 2018</td>\n",
       "      <td>2016</td>\n",
       "      <td>TV-Y7</td>\n",
       "      <td>1 Season</td>\n",
       "      <td>Kids' TV</td>\n",
       "      <td>When a prison ship crash unleashes hundreds of...</td>\n",
       "    </tr>\n",
       "    <tr>\n",
       "      <th>4</th>\n",
       "      <td>80125979</td>\n",
       "      <td>Movie</td>\n",
       "      <td>#realityhigh</td>\n",
       "      <td>Fernando Lebrija</td>\n",
       "      <td>Nesta Cooper, Kate Walsh, John Michael Higgins...</td>\n",
       "      <td>United States</td>\n",
       "      <td>September 8, 2017</td>\n",
       "      <td>2017</td>\n",
       "      <td>TV-14</td>\n",
       "      <td>99 min</td>\n",
       "      <td>Comedies</td>\n",
       "      <td>When nerdy high schooler Dani finally attracts...</td>\n",
       "    </tr>\n",
       "  </tbody>\n",
       "</table>\n",
       "</div>"
      ],
      "text/plain": [
       "    show_id     type                                    title  \\\n",
       "0  81145628    Movie  Norm of the North: King Sized Adventure   \n",
       "1  80117401    Movie               Jandino: Whatever it Takes   \n",
       "2  70234439  TV Show                       Transformers Prime   \n",
       "3  80058654  TV Show         Transformers: Robots in Disguise   \n",
       "4  80125979    Movie                             #realityhigh   \n",
       "\n",
       "                   director  \\\n",
       "0  Richard Finn, Tim Maltby   \n",
       "1                       NaN   \n",
       "2                       NaN   \n",
       "3                       NaN   \n",
       "4          Fernando Lebrija   \n",
       "\n",
       "                                                cast  \\\n",
       "0  Alan Marriott, Andrew Toth, Brian Dobson, Cole...   \n",
       "1                                   Jandino Asporaat   \n",
       "2  Peter Cullen, Sumalee Montano, Frank Welker, J...   \n",
       "3  Will Friedle, Darren Criss, Constance Zimmer, ...   \n",
       "4  Nesta Cooper, Kate Walsh, John Michael Higgins...   \n",
       "\n",
       "                                    country         date_added  release_year  \\\n",
       "0  United States, India, South Korea, China  September 9, 2019          2019   \n",
       "1                            United Kingdom  September 9, 2016          2016   \n",
       "2                             United States  September 8, 2018          2013   \n",
       "3                             United States  September 8, 2018          2016   \n",
       "4                             United States  September 8, 2017          2017   \n",
       "\n",
       "     rating  duration                           listed_in  \\\n",
       "0     TV-PG    90 min  Children & Family Movies, Comedies   \n",
       "1     TV-MA    94 min                     Stand-Up Comedy   \n",
       "2  TV-Y7-FV  1 Season                            Kids' TV   \n",
       "3     TV-Y7  1 Season                            Kids' TV   \n",
       "4     TV-14    99 min                            Comedies   \n",
       "\n",
       "                                         description  \n",
       "0  Before planning an awesome wedding for his gra...  \n",
       "1  Jandino Asporaat riffs on the challenges of ra...  \n",
       "2  With the help of three human allies, the Autob...  \n",
       "3  When a prison ship crash unleashes hundreds of...  \n",
       "4  When nerdy high schooler Dani finally attracts...  "
      ]
     },
     "execution_count": 3,
     "metadata": {},
     "output_type": "execute_result"
    }
   ],
   "source": [
    "df.head()"
   ]
  },
  {
   "cell_type": "markdown",
   "metadata": {},
   "source": [
    "## Data Preperation:"
   ]
  },
  {
   "cell_type": "markdown",
   "metadata": {},
   "source": [
    "1.1. Checking duplicates values in the dataset"
   ]
  },
  {
   "cell_type": "code",
   "execution_count": 4,
   "metadata": {},
   "outputs": [
    {
     "data": {
      "text/plain": [
       "0       False\n",
       "1       False\n",
       "2       False\n",
       "3       False\n",
       "4       False\n",
       "        ...  \n",
       "6229    False\n",
       "6230    False\n",
       "6231    False\n",
       "6232    False\n",
       "6233    False\n",
       "Length: 6234, dtype: bool"
      ]
     },
     "execution_count": 4,
     "metadata": {},
     "output_type": "execute_result"
    }
   ],
   "source": [
    "df.duplicated()"
   ]
  },
  {
   "cell_type": "markdown",
   "metadata": {},
   "source": [
    "1.2. Find the missing rows in each column"
   ]
  },
  {
   "cell_type": "code",
   "execution_count": 5,
   "metadata": {},
   "outputs": [
    {
     "data": {
      "text/plain": [
       "show_id            0\n",
       "type               0\n",
       "title              0\n",
       "director        1969\n",
       "cast             570\n",
       "country          476\n",
       "date_added        11\n",
       "release_year       0\n",
       "rating            10\n",
       "duration           0\n",
       "listed_in          0\n",
       "description        0\n",
       "dtype: int64"
      ]
     },
     "execution_count": 5,
     "metadata": {},
     "output_type": "execute_result"
    }
   ],
   "source": [
    "df.isnull().sum()"
   ]
  },
  {
   "cell_type": "markdown",
   "metadata": {},
   "source": [
    "1.3. Remove the NaN values from the dataset"
   ]
  },
  {
   "cell_type": "code",
   "execution_count": 6,
   "metadata": {},
   "outputs": [],
   "source": [
    "df = df.fillna(0)"
   ]
  },
  {
   "cell_type": "markdown",
   "metadata": {},
   "source": [
    "1.4. Change the 'date_added' values to the only year. And rename the column: 'added_year'"
   ]
  },
  {
   "cell_type": "code",
   "execution_count": 7,
   "metadata": {},
   "outputs": [],
   "source": [
    "df['date_added'] = pd.to_datetime(df.date_added)\n",
    "df['date_added'] = df['date_added'].dt.strftime(\"%Y\")"
   ]
  },
  {
   "cell_type": "code",
   "execution_count": 8,
   "metadata": {},
   "outputs": [
    {
     "data": {
      "text/plain": [
       "0       2019\n",
       "1       2016\n",
       "2       2018\n",
       "3       2018\n",
       "4       2017\n",
       "        ... \n",
       "6229    1970\n",
       "6230    1970\n",
       "6231    1970\n",
       "6232    1970\n",
       "6233    1970\n",
       "Name: date_added, Length: 6234, dtype: object"
      ]
     },
     "execution_count": 8,
     "metadata": {},
     "output_type": "execute_result"
    }
   ],
   "source": [
    "df['date_added']"
   ]
  },
  {
   "cell_type": "code",
   "execution_count": 9,
   "metadata": {},
   "outputs": [],
   "source": [
    "df = df.rename(columns={\"date_added\": \"added_year\"})\n"
   ]
  },
  {
   "cell_type": "code",
   "execution_count": 10,
   "metadata": {},
   "outputs": [
    {
     "data": {
      "text/html": [
       "<div>\n",
       "<style scoped>\n",
       "    .dataframe tbody tr th:only-of-type {\n",
       "        vertical-align: middle;\n",
       "    }\n",
       "\n",
       "    .dataframe tbody tr th {\n",
       "        vertical-align: top;\n",
       "    }\n",
       "\n",
       "    .dataframe thead th {\n",
       "        text-align: right;\n",
       "    }\n",
       "</style>\n",
       "<table border=\"1\" class=\"dataframe\">\n",
       "  <thead>\n",
       "    <tr style=\"text-align: right;\">\n",
       "      <th></th>\n",
       "      <th>show_id</th>\n",
       "      <th>type</th>\n",
       "      <th>title</th>\n",
       "      <th>director</th>\n",
       "      <th>cast</th>\n",
       "      <th>country</th>\n",
       "      <th>added_year</th>\n",
       "      <th>release_year</th>\n",
       "      <th>rating</th>\n",
       "      <th>duration</th>\n",
       "      <th>listed_in</th>\n",
       "      <th>description</th>\n",
       "    </tr>\n",
       "  </thead>\n",
       "  <tbody>\n",
       "    <tr>\n",
       "      <th>0</th>\n",
       "      <td>81145628</td>\n",
       "      <td>Movie</td>\n",
       "      <td>Norm of the North: King Sized Adventure</td>\n",
       "      <td>Richard Finn, Tim Maltby</td>\n",
       "      <td>Alan Marriott, Andrew Toth, Brian Dobson, Cole...</td>\n",
       "      <td>United States, India, South Korea, China</td>\n",
       "      <td>2019</td>\n",
       "      <td>2019</td>\n",
       "      <td>TV-PG</td>\n",
       "      <td>90 min</td>\n",
       "      <td>Children &amp; Family Movies, Comedies</td>\n",
       "      <td>Before planning an awesome wedding for his gra...</td>\n",
       "    </tr>\n",
       "    <tr>\n",
       "      <th>1</th>\n",
       "      <td>80117401</td>\n",
       "      <td>Movie</td>\n",
       "      <td>Jandino: Whatever it Takes</td>\n",
       "      <td>0</td>\n",
       "      <td>Jandino Asporaat</td>\n",
       "      <td>United Kingdom</td>\n",
       "      <td>2016</td>\n",
       "      <td>2016</td>\n",
       "      <td>TV-MA</td>\n",
       "      <td>94 min</td>\n",
       "      <td>Stand-Up Comedy</td>\n",
       "      <td>Jandino Asporaat riffs on the challenges of ra...</td>\n",
       "    </tr>\n",
       "    <tr>\n",
       "      <th>2</th>\n",
       "      <td>70234439</td>\n",
       "      <td>TV Show</td>\n",
       "      <td>Transformers Prime</td>\n",
       "      <td>0</td>\n",
       "      <td>Peter Cullen, Sumalee Montano, Frank Welker, J...</td>\n",
       "      <td>United States</td>\n",
       "      <td>2018</td>\n",
       "      <td>2013</td>\n",
       "      <td>TV-Y7-FV</td>\n",
       "      <td>1 Season</td>\n",
       "      <td>Kids' TV</td>\n",
       "      <td>With the help of three human allies, the Autob...</td>\n",
       "    </tr>\n",
       "    <tr>\n",
       "      <th>3</th>\n",
       "      <td>80058654</td>\n",
       "      <td>TV Show</td>\n",
       "      <td>Transformers: Robots in Disguise</td>\n",
       "      <td>0</td>\n",
       "      <td>Will Friedle, Darren Criss, Constance Zimmer, ...</td>\n",
       "      <td>United States</td>\n",
       "      <td>2018</td>\n",
       "      <td>2016</td>\n",
       "      <td>TV-Y7</td>\n",
       "      <td>1 Season</td>\n",
       "      <td>Kids' TV</td>\n",
       "      <td>When a prison ship crash unleashes hundreds of...</td>\n",
       "    </tr>\n",
       "    <tr>\n",
       "      <th>4</th>\n",
       "      <td>80125979</td>\n",
       "      <td>Movie</td>\n",
       "      <td>#realityhigh</td>\n",
       "      <td>Fernando Lebrija</td>\n",
       "      <td>Nesta Cooper, Kate Walsh, John Michael Higgins...</td>\n",
       "      <td>United States</td>\n",
       "      <td>2017</td>\n",
       "      <td>2017</td>\n",
       "      <td>TV-14</td>\n",
       "      <td>99 min</td>\n",
       "      <td>Comedies</td>\n",
       "      <td>When nerdy high schooler Dani finally attracts...</td>\n",
       "    </tr>\n",
       "    <tr>\n",
       "      <th>...</th>\n",
       "      <td>...</td>\n",
       "      <td>...</td>\n",
       "      <td>...</td>\n",
       "      <td>...</td>\n",
       "      <td>...</td>\n",
       "      <td>...</td>\n",
       "      <td>...</td>\n",
       "      <td>...</td>\n",
       "      <td>...</td>\n",
       "      <td>...</td>\n",
       "      <td>...</td>\n",
       "      <td>...</td>\n",
       "    </tr>\n",
       "    <tr>\n",
       "      <th>6229</th>\n",
       "      <td>80000063</td>\n",
       "      <td>TV Show</td>\n",
       "      <td>Red vs. Blue</td>\n",
       "      <td>0</td>\n",
       "      <td>Burnie Burns, Jason Saldaña, Gustavo Sorola, G...</td>\n",
       "      <td>United States</td>\n",
       "      <td>1970</td>\n",
       "      <td>2015</td>\n",
       "      <td>NR</td>\n",
       "      <td>13 Seasons</td>\n",
       "      <td>TV Action &amp; Adventure, TV Comedies, TV Sci-Fi ...</td>\n",
       "      <td>This parody of first-person shooter games, mil...</td>\n",
       "    </tr>\n",
       "    <tr>\n",
       "      <th>6230</th>\n",
       "      <td>70286564</td>\n",
       "      <td>TV Show</td>\n",
       "      <td>Maron</td>\n",
       "      <td>0</td>\n",
       "      <td>Marc Maron, Judd Hirsch, Josh Brener, Nora Zeh...</td>\n",
       "      <td>United States</td>\n",
       "      <td>1970</td>\n",
       "      <td>2016</td>\n",
       "      <td>TV-MA</td>\n",
       "      <td>4 Seasons</td>\n",
       "      <td>TV Comedies</td>\n",
       "      <td>Marc Maron stars as Marc Maron, who interviews...</td>\n",
       "    </tr>\n",
       "    <tr>\n",
       "      <th>6231</th>\n",
       "      <td>80116008</td>\n",
       "      <td>Movie</td>\n",
       "      <td>Little Baby Bum: Nursery Rhyme Friends</td>\n",
       "      <td>0</td>\n",
       "      <td>0</td>\n",
       "      <td>0</td>\n",
       "      <td>1970</td>\n",
       "      <td>2016</td>\n",
       "      <td>0</td>\n",
       "      <td>60 min</td>\n",
       "      <td>Movies</td>\n",
       "      <td>Nursery rhymes and original music for children...</td>\n",
       "    </tr>\n",
       "    <tr>\n",
       "      <th>6232</th>\n",
       "      <td>70281022</td>\n",
       "      <td>TV Show</td>\n",
       "      <td>A Young Doctor's Notebook and Other Stories</td>\n",
       "      <td>0</td>\n",
       "      <td>Daniel Radcliffe, Jon Hamm, Adam Godley, Chris...</td>\n",
       "      <td>United Kingdom</td>\n",
       "      <td>1970</td>\n",
       "      <td>2013</td>\n",
       "      <td>TV-MA</td>\n",
       "      <td>2 Seasons</td>\n",
       "      <td>British TV Shows, TV Comedies, TV Dramas</td>\n",
       "      <td>Set during the Russian Revolution, this comic ...</td>\n",
       "    </tr>\n",
       "    <tr>\n",
       "      <th>6233</th>\n",
       "      <td>70153404</td>\n",
       "      <td>TV Show</td>\n",
       "      <td>Friends</td>\n",
       "      <td>0</td>\n",
       "      <td>Jennifer Aniston, Courteney Cox, Lisa Kudrow, ...</td>\n",
       "      <td>United States</td>\n",
       "      <td>1970</td>\n",
       "      <td>2003</td>\n",
       "      <td>TV-14</td>\n",
       "      <td>10 Seasons</td>\n",
       "      <td>Classic &amp; Cult TV, TV Comedies</td>\n",
       "      <td>This hit sitcom follows the merry misadventure...</td>\n",
       "    </tr>\n",
       "  </tbody>\n",
       "</table>\n",
       "<p>6234 rows × 12 columns</p>\n",
       "</div>"
      ],
      "text/plain": [
       "       show_id     type                                        title  \\\n",
       "0     81145628    Movie      Norm of the North: King Sized Adventure   \n",
       "1     80117401    Movie                   Jandino: Whatever it Takes   \n",
       "2     70234439  TV Show                           Transformers Prime   \n",
       "3     80058654  TV Show             Transformers: Robots in Disguise   \n",
       "4     80125979    Movie                                 #realityhigh   \n",
       "...        ...      ...                                          ...   \n",
       "6229  80000063  TV Show                                 Red vs. Blue   \n",
       "6230  70286564  TV Show                                        Maron   \n",
       "6231  80116008    Movie       Little Baby Bum: Nursery Rhyme Friends   \n",
       "6232  70281022  TV Show  A Young Doctor's Notebook and Other Stories   \n",
       "6233  70153404  TV Show                                      Friends   \n",
       "\n",
       "                      director  \\\n",
       "0     Richard Finn, Tim Maltby   \n",
       "1                            0   \n",
       "2                            0   \n",
       "3                            0   \n",
       "4             Fernando Lebrija   \n",
       "...                        ...   \n",
       "6229                         0   \n",
       "6230                         0   \n",
       "6231                         0   \n",
       "6232                         0   \n",
       "6233                         0   \n",
       "\n",
       "                                                   cast  \\\n",
       "0     Alan Marriott, Andrew Toth, Brian Dobson, Cole...   \n",
       "1                                      Jandino Asporaat   \n",
       "2     Peter Cullen, Sumalee Montano, Frank Welker, J...   \n",
       "3     Will Friedle, Darren Criss, Constance Zimmer, ...   \n",
       "4     Nesta Cooper, Kate Walsh, John Michael Higgins...   \n",
       "...                                                 ...   \n",
       "6229  Burnie Burns, Jason Saldaña, Gustavo Sorola, G...   \n",
       "6230  Marc Maron, Judd Hirsch, Josh Brener, Nora Zeh...   \n",
       "6231                                                  0   \n",
       "6232  Daniel Radcliffe, Jon Hamm, Adam Godley, Chris...   \n",
       "6233  Jennifer Aniston, Courteney Cox, Lisa Kudrow, ...   \n",
       "\n",
       "                                       country added_year  release_year  \\\n",
       "0     United States, India, South Korea, China       2019          2019   \n",
       "1                               United Kingdom       2016          2016   \n",
       "2                                United States       2018          2013   \n",
       "3                                United States       2018          2016   \n",
       "4                                United States       2017          2017   \n",
       "...                                        ...        ...           ...   \n",
       "6229                             United States       1970          2015   \n",
       "6230                             United States       1970          2016   \n",
       "6231                                         0       1970          2016   \n",
       "6232                            United Kingdom       1970          2013   \n",
       "6233                             United States       1970          2003   \n",
       "\n",
       "        rating    duration                                          listed_in  \\\n",
       "0        TV-PG      90 min                 Children & Family Movies, Comedies   \n",
       "1        TV-MA      94 min                                    Stand-Up Comedy   \n",
       "2     TV-Y7-FV    1 Season                                           Kids' TV   \n",
       "3        TV-Y7    1 Season                                           Kids' TV   \n",
       "4        TV-14      99 min                                           Comedies   \n",
       "...        ...         ...                                                ...   \n",
       "6229        NR  13 Seasons  TV Action & Adventure, TV Comedies, TV Sci-Fi ...   \n",
       "6230     TV-MA   4 Seasons                                        TV Comedies   \n",
       "6231         0      60 min                                             Movies   \n",
       "6232     TV-MA   2 Seasons           British TV Shows, TV Comedies, TV Dramas   \n",
       "6233     TV-14  10 Seasons                     Classic & Cult TV, TV Comedies   \n",
       "\n",
       "                                            description  \n",
       "0     Before planning an awesome wedding for his gra...  \n",
       "1     Jandino Asporaat riffs on the challenges of ra...  \n",
       "2     With the help of three human allies, the Autob...  \n",
       "3     When a prison ship crash unleashes hundreds of...  \n",
       "4     When nerdy high schooler Dani finally attracts...  \n",
       "...                                                 ...  \n",
       "6229  This parody of first-person shooter games, mil...  \n",
       "6230  Marc Maron stars as Marc Maron, who interviews...  \n",
       "6231  Nursery rhymes and original music for children...  \n",
       "6232  Set during the Russian Revolution, this comic ...  \n",
       "6233  This hit sitcom follows the merry misadventure...  \n",
       "\n",
       "[6234 rows x 12 columns]"
      ]
     },
     "execution_count": 10,
     "metadata": {},
     "output_type": "execute_result"
    }
   ],
   "source": [
    "df"
   ]
  },
  {
   "cell_type": "markdown",
   "metadata": {},
   "source": [
    "1.5. Make a copy of the dataset"
   ]
  },
  {
   "cell_type": "code",
   "execution_count": 11,
   "metadata": {},
   "outputs": [],
   "source": [
    "df_copy = df.copy()"
   ]
  },
  {
   "cell_type": "markdown",
   "metadata": {},
   "source": [
    "1.6. In the copied dataset,remove all the columns, except for the ‘show-id’, ‘type’ and ‘cast’."
   ]
  },
  {
   "cell_type": "code",
   "execution_count": 12,
   "metadata": {},
   "outputs": [],
   "source": [
    "df_copy.drop(['title', 'director','country','added_year','release_year','rating', 'duration','listed_in','description'], axis = 1, inplace=True) \n"
   ]
  },
  {
   "cell_type": "code",
   "execution_count": 13,
   "metadata": {},
   "outputs": [
    {
     "data": {
      "text/html": [
       "<div>\n",
       "<style scoped>\n",
       "    .dataframe tbody tr th:only-of-type {\n",
       "        vertical-align: middle;\n",
       "    }\n",
       "\n",
       "    .dataframe tbody tr th {\n",
       "        vertical-align: top;\n",
       "    }\n",
       "\n",
       "    .dataframe thead th {\n",
       "        text-align: right;\n",
       "    }\n",
       "</style>\n",
       "<table border=\"1\" class=\"dataframe\">\n",
       "  <thead>\n",
       "    <tr style=\"text-align: right;\">\n",
       "      <th></th>\n",
       "      <th>show_id</th>\n",
       "      <th>type</th>\n",
       "      <th>cast</th>\n",
       "    </tr>\n",
       "  </thead>\n",
       "  <tbody>\n",
       "    <tr>\n",
       "      <th>0</th>\n",
       "      <td>81145628</td>\n",
       "      <td>Movie</td>\n",
       "      <td>Alan Marriott, Andrew Toth, Brian Dobson, Cole...</td>\n",
       "    </tr>\n",
       "    <tr>\n",
       "      <th>1</th>\n",
       "      <td>80117401</td>\n",
       "      <td>Movie</td>\n",
       "      <td>Jandino Asporaat</td>\n",
       "    </tr>\n",
       "    <tr>\n",
       "      <th>2</th>\n",
       "      <td>70234439</td>\n",
       "      <td>TV Show</td>\n",
       "      <td>Peter Cullen, Sumalee Montano, Frank Welker, J...</td>\n",
       "    </tr>\n",
       "    <tr>\n",
       "      <th>3</th>\n",
       "      <td>80058654</td>\n",
       "      <td>TV Show</td>\n",
       "      <td>Will Friedle, Darren Criss, Constance Zimmer, ...</td>\n",
       "    </tr>\n",
       "    <tr>\n",
       "      <th>4</th>\n",
       "      <td>80125979</td>\n",
       "      <td>Movie</td>\n",
       "      <td>Nesta Cooper, Kate Walsh, John Michael Higgins...</td>\n",
       "    </tr>\n",
       "  </tbody>\n",
       "</table>\n",
       "</div>"
      ],
      "text/plain": [
       "    show_id     type                                               cast\n",
       "0  81145628    Movie  Alan Marriott, Andrew Toth, Brian Dobson, Cole...\n",
       "1  80117401    Movie                                   Jandino Asporaat\n",
       "2  70234439  TV Show  Peter Cullen, Sumalee Montano, Frank Welker, J...\n",
       "3  80058654  TV Show  Will Friedle, Darren Criss, Constance Zimmer, ...\n",
       "4  80125979    Movie  Nesta Cooper, Kate Walsh, John Michael Higgins..."
      ]
     },
     "execution_count": 13,
     "metadata": {},
     "output_type": "execute_result"
    }
   ],
   "source": [
    "df_copy.head()"
   ]
  },
  {
   "cell_type": "markdown",
   "metadata": {},
   "source": [
    "1.7. In the copied dataset, you make sure that each artist will be in a row with the showid that they have participated in and the type"
   ]
  },
  {
   "cell_type": "code",
   "execution_count": null,
   "metadata": {},
   "outputs": [],
   "source": []
  },
  {
   "cell_type": "markdown",
   "metadata": {},
   "source": [
    "## Data Discovering:"
   ]
  },
  {
   "cell_type": "markdown",
   "metadata": {},
   "source": [
    "2.1. Plot the number of movies as TV shows."
   ]
  },
  {
   "cell_type": "code",
   "execution_count": 29,
   "metadata": {},
   "outputs": [
    {
     "data": {
      "text/plain": [
       "<matplotlib.axes._subplots.AxesSubplot at 0x7fed8b601bd0>"
      ]
     },
     "execution_count": 29,
     "metadata": {},
     "output_type": "execute_result"
    },
    {
     "data": {
      "image/png": "[encoded data removed]",
      "text/plain": [
       "<Figure size 432x288 with 1 Axes>"
      ]
     },
     "metadata": {
      "needs_background": "light"
     },
     "output_type": "display_data"
    }
   ],
   "source": [
    "(df['type']).value_counts().sort_index().plot(kind='bar')"
   ]
  },
  {
   "cell_type": "markdown",
   "metadata": {},
   "source": [
    "2.2. Plot the number of releases per year. Give an interpretation."
   ]
  },
  {
   "cell_type": "code",
   "execution_count": 26,
   "metadata": {},
   "outputs": [
    {
     "data": {
      "text/plain": [
       "<matplotlib.axes._subplots.AxesSubplot at 0x7fed8c80ac90>"
      ]
     },
     "execution_count": 26,
     "metadata": {},
     "output_type": "execute_result"
    },
    {
     "data": {
      "image/png": "[encoded data removed]",
      "text/plain": [
       "<Figure size 432x288 with 1 Axes>"
      ]
     },
     "metadata": {
      "needs_background": "light"
     },
     "output_type": "display_data"
    }
   ],
   "source": [
    "df.groupby('release_year').size().plot(title=\"Number of movies released every year\")\n"
   ]
  },
  {
   "cell_type": "markdown",
   "metadata": {},
   "source": [
    "2.3. What is the highest year in adding new shows?\n"
   ]
  },
  {
   "cell_type": "code",
   "execution_count": null,
   "metadata": {},
   "outputs": [],
   "source": []
  },
  {
   "cell_type": "markdown",
   "metadata": {},
   "source": [
    "2.4. What are the types of ratings for the movies? Plot for each rating the number of movies.\n"
   ]
  },
  {
   "cell_type": "markdown",
   "metadata": {},
   "source": []
  },
  {
   "cell_type": "code",
   "execution_count": null,
   "metadata": {},
   "outputs": [],
   "source": []
  },
  {
   "cell_type": "markdown",
   "metadata": {},
   "source": [
    "## Social Network Analysis:\n",
    "\n"
   ]
  },
  {
   "cell_type": "markdown",
   "metadata": {},
   "source": [
    "3.1. Create a co-acting network, where the nodes are actors and the edges are the links between actors if they have participated in the same movie or TV-show at least once."
   ]
  },
  {
   "cell_type": "code",
   "execution_count": null,
   "metadata": {},
   "outputs": [],
   "source": []
  },
  {
   "cell_type": "markdown",
   "metadata": {},
   "source": [
    "3.2. Compute the betweenness centrality, degree centrality , and close- ness centrality for each node."
   ]
  },
  {
   "cell_type": "code",
   "execution_count": null,
   "metadata": {},
   "outputs": [],
   "source": []
  },
  {
   "cell_type": "markdown",
   "metadata": {},
   "source": [
    "3.3. For each centrality measure, find the actor with the highest value."
   ]
  },
  {
   "cell_type": "code",
   "execution_count": null,
   "metadata": {},
   "outputs": [],
   "source": []
  },
  {
   "cell_type": "markdown",
   "metadata": {},
   "source": [
    "\n",
    "3.4. Compute the average length of the shortest path and the average clustering coefficient."
   ]
  },
  {
   "cell_type": "code",
   "execution_count": null,
   "metadata": {},
   "outputs": [],
   "source": []
  },
  {
   "cell_type": "markdown",
   "metadata": {},
   "source": [
    "3.5. Shuffle your data and take the first 100 rows and plot two modes network"
   ]
  },
  {
   "cell_type": "code",
   "execution_count": null,
   "metadata": {},
   "outputs": [],
   "source": []
  }
 ],
 "metadata": {
  "kernelspec": {
   "display_name": "Python 3",
   "language": "python",
   "name": "python3"
  },
  "language_info": {
   "codemirror_mode": {
    "name": "ipython",
    "version": 3
   },
   "file_extension": ".py",
   "mimetype": "text/x-python",
   "name": "python",
   "nbconvert_exporter": "python",
   "pygments_lexer": "ipython3",
   "version": "3.7.6"
  }
 },
 "nbformat": 4,
 "nbformat_minor": 4
}
